{
 "cells": [
  {
   "cell_type": "code",
   "execution_count": 1,
   "metadata": {},
   "outputs": [],
   "source": [
    "import pandas as pd\n",
    "import numpy as np"
   ]
  },
  {
   "cell_type": "code",
   "execution_count": 2,
   "metadata": {},
   "outputs": [],
   "source": [
    "train = pd.read_csv('C:/Users/MSI/Desktop/IndabaX 2022/GDS challenge/Training-Dataset.csv')"
   ]
  },
  {
   "cell_type": "code",
   "execution_count": 3,
   "metadata": {},
   "outputs": [
    {
     "data": {
      "text/html": [
       "<div>\n",
       "<style scoped>\n",
       "    .dataframe tbody tr th:only-of-type {\n",
       "        vertical-align: middle;\n",
       "    }\n",
       "\n",
       "    .dataframe tbody tr th {\n",
       "        vertical-align: top;\n",
       "    }\n",
       "\n",
       "    .dataframe thead th {\n",
       "        text-align: right;\n",
       "    }\n",
       "</style>\n",
       "<table border=\"1\" class=\"dataframe\">\n",
       "  <thead>\n",
       "    <tr style=\"text-align: right;\">\n",
       "      <th></th>\n",
       "      <th>Identifier</th>\n",
       "      <th>Age</th>\n",
       "      <th>Height</th>\n",
       "      <th>Level of studies</th>\n",
       "      <th>Voice type</th>\n",
       "      <th>accent</th>\n",
       "      <th>Hair color</th>\n",
       "      <th>glasses</th>\n",
       "      <th>Body type</th>\n",
       "      <th>Tattoos</th>\n",
       "      <th>Gender</th>\n",
       "      <th>PK</th>\n",
       "      <th>food</th>\n",
       "      <th>JobInvolvement</th>\n",
       "      <th>WorkLifeBalance</th>\n",
       "      <th>jailexp</th>\n",
       "    </tr>\n",
       "  </thead>\n",
       "  <tbody>\n",
       "    <tr>\n",
       "      <th>0</th>\n",
       "      <td>0</td>\n",
       "      <td>21</td>\n",
       "      <td>191.41</td>\n",
       "      <td>1</td>\n",
       "      <td>mid range</td>\n",
       "      <td>East Coast City Dialects</td>\n",
       "      <td>Missing</td>\n",
       "      <td>No</td>\n",
       "      <td>mesomorph</td>\n",
       "      <td>No</td>\n",
       "      <td>M</td>\n",
       "      <td>No</td>\n",
       "      <td>Pizza</td>\n",
       "      <td>8711</td>\n",
       "      <td>8711</td>\n",
       "      <td>1089</td>\n",
       "    </tr>\n",
       "    <tr>\n",
       "      <th>1</th>\n",
       "      <td>1</td>\n",
       "      <td>**??</td>\n",
       "      <td>194.91</td>\n",
       "      <td>-------&gt;?</td>\n",
       "      <td>deep</td>\n",
       "      <td>Southern American</td>\n",
       "      <td>white/gray</td>\n",
       "      <td>No</td>\n",
       "      <td>mesomorph</td>\n",
       "      <td>?</td>\n",
       "      <td>NB</td>\n",
       "      <td>No</td>\n",
       "      <td>Pizza</td>\n",
       "      <td>VeryHigh</td>\n",
       "      <td>4734</td>\n",
       "      <td>?</td>\n",
       "    </tr>\n",
       "    <tr>\n",
       "      <th>2</th>\n",
       "      <td>2</td>\n",
       "      <td>-------&gt;?</td>\n",
       "      <td>170.39</td>\n",
       "      <td>0</td>\n",
       "      <td>high pitched</td>\n",
       "      <td>Midwestern American</td>\n",
       "      <td>black</td>\n",
       "      <td>No</td>\n",
       "      <td>mesomorph</td>\n",
       "      <td>No</td>\n",
       "      <td>M</td>\n",
       "      <td>No</td>\n",
       "      <td>?</td>\n",
       "      <td>VeryHigh</td>\n",
       "      <td>7252</td>\n",
       "      <td>907</td>\n",
       "    </tr>\n",
       "    <tr>\n",
       "      <th>3</th>\n",
       "      <td>NaN</td>\n",
       "      <td>NaN</td>\n",
       "      <td>NaN</td>\n",
       "      <td>NaN</td>\n",
       "      <td>NaN</td>\n",
       "      <td>NaN</td>\n",
       "      <td>NaN</td>\n",
       "      <td>NaN</td>\n",
       "      <td>NaN</td>\n",
       "      <td>NaN</td>\n",
       "      <td>NaN</td>\n",
       "      <td>NaN</td>\n",
       "      <td>NaN</td>\n",
       "      <td>NaN</td>\n",
       "      <td>NaN</td>\n",
       "      <td>NaN</td>\n",
       "    </tr>\n",
       "    <tr>\n",
       "      <th>4</th>\n",
       "      <td>4</td>\n",
       "      <td>19</td>\n",
       "      <td>187.54</td>\n",
       "      <td>3</td>\n",
       "      <td>deep</td>\n",
       "      <td>East Coast City Dialects</td>\n",
       "      <td>white/gray</td>\n",
       "      <td>No</td>\n",
       "      <td>ectomorph</td>\n",
       "      <td>Yes</td>\n",
       "      <td>M</td>\n",
       "      <td>No</td>\n",
       "      <td>Pizaa</td>\n",
       "      <td>VeryHigh</td>\n",
       "      <td>5080</td>\n",
       "      <td>635</td>\n",
       "    </tr>\n",
       "  </tbody>\n",
       "</table>\n",
       "</div>"
      ],
      "text/plain": [
       "  Identifier        Age  Height Level of studies    Voice type  \\\n",
       "0          0         21  191.41                1     mid range   \n",
       "1          1       **??  194.91        ------->?          deep   \n",
       "2          2  ------->?  170.39                0  high pitched   \n",
       "3        NaN        NaN     NaN              NaN           NaN   \n",
       "4          4         19  187.54                3          deep   \n",
       "\n",
       "                     accent  Hair color glasses  Body type Tattoos Gender  \\\n",
       "0  East Coast City Dialects     Missing      No  mesomorph      No      M   \n",
       "1         Southern American  white/gray      No  mesomorph       ?     NB   \n",
       "2       Midwestern American       black      No  mesomorph      No      M   \n",
       "3                       NaN         NaN     NaN        NaN     NaN    NaN   \n",
       "4  East Coast City Dialects  white/gray      No  ectomorph     Yes      M   \n",
       "\n",
       "    PK   food JobInvolvement WorkLifeBalance jailexp  \n",
       "0   No  Pizza           8711            8711    1089  \n",
       "1   No  Pizza       VeryHigh            4734       ?  \n",
       "2   No      ?       VeryHigh            7252     907  \n",
       "3  NaN    NaN            NaN             NaN     NaN  \n",
       "4   No  Pizaa       VeryHigh            5080     635  "
      ]
     },
     "execution_count": 3,
     "metadata": {},
     "output_type": "execute_result"
    }
   ],
   "source": [
    "train.head()"
   ]
  },
  {
   "cell_type": "code",
   "execution_count": 4,
   "metadata": {},
   "outputs": [
    {
     "data": {
      "text/plain": [
       "Index(['Identifier', 'Age', 'Height', 'Level of studies', 'Voice type',\n",
       "       'accent', 'Hair color', 'glasses', 'Body type', 'Tattoos', 'Gender',\n",
       "       'PK', 'food', 'JobInvolvement', 'WorkLifeBalance', 'jailexp'],\n",
       "      dtype='object')"
      ]
     },
     "execution_count": 4,
     "metadata": {},
     "output_type": "execute_result"
    }
   ],
   "source": [
    "train.columns"
   ]
  },
  {
   "cell_type": "code",
   "execution_count": 5,
   "metadata": {},
   "outputs": [
    {
     "data": {
      "text/html": [
       "<div>\n",
       "<style scoped>\n",
       "    .dataframe tbody tr th:only-of-type {\n",
       "        vertical-align: middle;\n",
       "    }\n",
       "\n",
       "    .dataframe tbody tr th {\n",
       "        vertical-align: top;\n",
       "    }\n",
       "\n",
       "    .dataframe thead th {\n",
       "        text-align: right;\n",
       "    }\n",
       "</style>\n",
       "<table border=\"1\" class=\"dataframe\">\n",
       "  <thead>\n",
       "    <tr style=\"text-align: right;\">\n",
       "      <th></th>\n",
       "      <th>Identifier</th>\n",
       "      <th>Age</th>\n",
       "      <th>Height</th>\n",
       "      <th>Level of studies</th>\n",
       "      <th>Voice type</th>\n",
       "      <th>accent</th>\n",
       "      <th>Hair color</th>\n",
       "      <th>glasses</th>\n",
       "      <th>Body type</th>\n",
       "      <th>Tattoos</th>\n",
       "      <th>Gender</th>\n",
       "      <th>PK</th>\n",
       "      <th>food</th>\n",
       "      <th>JobInvolvement</th>\n",
       "      <th>WorkLifeBalance</th>\n",
       "      <th>jailexp</th>\n",
       "    </tr>\n",
       "  </thead>\n",
       "  <tbody>\n",
       "    <tr>\n",
       "      <th>count</th>\n",
       "      <td>1474</td>\n",
       "      <td>1474</td>\n",
       "      <td>1474</td>\n",
       "      <td>1474</td>\n",
       "      <td>1474</td>\n",
       "      <td>1474</td>\n",
       "      <td>1474</td>\n",
       "      <td>1474</td>\n",
       "      <td>1474</td>\n",
       "      <td>1474</td>\n",
       "      <td>1474</td>\n",
       "      <td>1474</td>\n",
       "      <td>1474</td>\n",
       "      <td>1474</td>\n",
       "      <td>1474</td>\n",
       "      <td>1474</td>\n",
       "    </tr>\n",
       "    <tr>\n",
       "      <th>unique</th>\n",
       "      <td>1334</td>\n",
       "      <td>46</td>\n",
       "      <td>1207</td>\n",
       "      <td>15</td>\n",
       "      <td>7</td>\n",
       "      <td>16</td>\n",
       "      <td>10</td>\n",
       "      <td>6</td>\n",
       "      <td>7</td>\n",
       "      <td>7</td>\n",
       "      <td>8</td>\n",
       "      <td>6</td>\n",
       "      <td>9</td>\n",
       "      <td>381</td>\n",
       "      <td>958</td>\n",
       "      <td>736</td>\n",
       "    </tr>\n",
       "    <tr>\n",
       "      <th>top</th>\n",
       "      <td>-------&gt;?</td>\n",
       "      <td>24</td>\n",
       "      <td>?</td>\n",
       "      <td>4</td>\n",
       "      <td>deep</td>\n",
       "      <td>Midwestern American</td>\n",
       "      <td>blond</td>\n",
       "      <td>Yes</td>\n",
       "      <td>mesomorph</td>\n",
       "      <td>No</td>\n",
       "      <td>M</td>\n",
       "      <td>Yes</td>\n",
       "      <td>Burger</td>\n",
       "      <td>VeryHigh</td>\n",
       "      <td>great</td>\n",
       "      <td>?</td>\n",
       "    </tr>\n",
       "    <tr>\n",
       "      <th>freq</th>\n",
       "      <td>40</td>\n",
       "      <td>84</td>\n",
       "      <td>39</td>\n",
       "      <td>244</td>\n",
       "      <td>655</td>\n",
       "      <td>267</td>\n",
       "      <td>377</td>\n",
       "      <td>712</td>\n",
       "      <td>565</td>\n",
       "      <td>673</td>\n",
       "      <td>596</td>\n",
       "      <td>802</td>\n",
       "      <td>662</td>\n",
       "      <td>578</td>\n",
       "      <td>205</td>\n",
       "      <td>195</td>\n",
       "    </tr>\n",
       "  </tbody>\n",
       "</table>\n",
       "</div>"
      ],
      "text/plain": [
       "       Identifier   Age Height Level of studies Voice type  \\\n",
       "count        1474  1474   1474             1474       1474   \n",
       "unique       1334    46   1207               15          7   \n",
       "top     ------->?    24      ?                4       deep   \n",
       "freq           40    84     39              244        655   \n",
       "\n",
       "                     accent Hair color glasses  Body type Tattoos Gender  \\\n",
       "count                  1474       1474    1474       1474    1474   1474   \n",
       "unique                   16         10       6          7       7      8   \n",
       "top     Midwestern American      blond     Yes  mesomorph      No      M   \n",
       "freq                    267        377     712        565     673    596   \n",
       "\n",
       "          PK    food JobInvolvement WorkLifeBalance jailexp  \n",
       "count   1474    1474           1474            1474    1474  \n",
       "unique     6       9            381             958     736  \n",
       "top      Yes  Burger       VeryHigh           great       ?  \n",
       "freq     802     662            578             205     195  "
      ]
     },
     "execution_count": 5,
     "metadata": {},
     "output_type": "execute_result"
    }
   ],
   "source": [
    "train.describe()"
   ]
  },
  {
   "cell_type": "code",
   "execution_count": 6,
   "metadata": {},
   "outputs": [
    {
     "name": "stdout",
     "output_type": "stream",
     "text": [
      "<class 'pandas.core.frame.DataFrame'>\n",
      "RangeIndex: 1500 entries, 0 to 1499\n",
      "Data columns (total 16 columns):\n",
      " #   Column            Non-Null Count  Dtype \n",
      "---  ------            --------------  ----- \n",
      " 0   Identifier        1474 non-null   object\n",
      " 1   Age               1474 non-null   object\n",
      " 2   Height            1474 non-null   object\n",
      " 3   Level of studies  1474 non-null   object\n",
      " 4   Voice type        1474 non-null   object\n",
      " 5   accent            1474 non-null   object\n",
      " 6   Hair color        1474 non-null   object\n",
      " 7   glasses           1474 non-null   object\n",
      " 8   Body type         1474 non-null   object\n",
      " 9   Tattoos           1474 non-null   object\n",
      " 10  Gender            1474 non-null   object\n",
      " 11  PK                1474 non-null   object\n",
      " 12  food              1474 non-null   object\n",
      " 13  JobInvolvement    1474 non-null   object\n",
      " 14  WorkLifeBalance   1474 non-null   object\n",
      " 15  jailexp           1474 non-null   object\n",
      "dtypes: object(16)\n",
      "memory usage: 187.6+ KB\n"
     ]
    }
   ],
   "source": [
    "train.info()"
   ]
  },
  {
   "cell_type": "code",
   "execution_count": 7,
   "metadata": {},
   "outputs": [],
   "source": [
    "for i in list(train.columns) :\n",
    "    train[i].replace('?',np.nan,inplace=True)\n",
    "    train[i].replace('------->?',np.nan,inplace=True)\n",
    "    train[i].replace('Missing',np.nan,inplace=True)\n",
    "    train[i].replace('**??',np.nan,inplace=True)"
   ]
  },
  {
   "cell_type": "code",
   "execution_count": 8,
   "metadata": {},
   "outputs": [
    {
     "name": "stdout",
     "output_type": "stream",
     "text": [
      "<class 'pandas.core.frame.DataFrame'>\n",
      "RangeIndex: 1500 entries, 0 to 1499\n",
      "Data columns (total 16 columns):\n",
      " #   Column            Non-Null Count  Dtype \n",
      "---  ------            --------------  ----- \n",
      " 0   Identifier        1330 non-null   object\n",
      " 1   Age               1343 non-null   object\n",
      " 2   Height            1321 non-null   object\n",
      " 3   Level of studies  1328 non-null   object\n",
      " 4   Voice type        1316 non-null   object\n",
      " 5   accent            1334 non-null   object\n",
      " 6   Hair color        1336 non-null   object\n",
      " 7   glasses           1315 non-null   object\n",
      " 8   Body type         1315 non-null   object\n",
      " 9   Tattoos           1332 non-null   object\n",
      " 10  Gender            1338 non-null   object\n",
      " 11  PK                1332 non-null   object\n",
      " 12  food              1300 non-null   object\n",
      " 13  JobInvolvement    1474 non-null   object\n",
      " 14  WorkLifeBalance   1474 non-null   object\n",
      " 15  jailexp           732 non-null    object\n",
      "dtypes: object(16)\n",
      "memory usage: 187.6+ KB\n"
     ]
    }
   ],
   "source": [
    "train.info()"
   ]
  },
  {
   "cell_type": "code",
   "execution_count": null,
   "metadata": {},
   "outputs": [],
   "source": [
    "col = list(train.columns)"
   ]
  },
  {
   "cell_type": "code",
   "execution_count": null,
   "metadata": {},
   "outputs": [],
   "source": [
    "col"
   ]
  },
  {
   "cell_type": "markdown",
   "metadata": {},
   "source": [
    "Removing *Burger from Worklifebalance"
   ]
  },
  {
   "cell_type": "code",
   "execution_count": null,
   "metadata": {},
   "outputs": [],
   "source": [
    "train[\"WorkLifeBalance\"].replace('*Burger',np.nan,inplace=True)"
   ]
  },
  {
   "cell_type": "code",
   "execution_count": null,
   "metadata": {},
   "outputs": [],
   "source": [
    "train['Tattoos'].value_counts()"
   ]
  },
  {
   "cell_type": "code",
   "execution_count": null,
   "metadata": {},
   "outputs": [],
   "source": [
    "train[\"Tattoos\"].replace('Yas','Yes',inplace=True)"
   ]
  },
  {
   "cell_type": "code",
   "execution_count": null,
   "metadata": {},
   "outputs": [],
   "source": [
    "train['Gender'].value_counts()"
   ]
  },
  {
   "cell_type": "code",
   "execution_count": null,
   "metadata": {},
   "outputs": [],
   "source": [
    "train[\"Gender\"].replace('Male','M',inplace=True)"
   ]
  },
  {
   "cell_type": "code",
   "execution_count": null,
   "metadata": {},
   "outputs": [],
   "source": [
    "train['food'].value_counts()"
   ]
  },
  {
   "cell_type": "code",
   "execution_count": null,
   "metadata": {},
   "outputs": [],
   "source": [
    "train[\"food\"].replace('Pizaa','Pizza',inplace=True)"
   ]
  },
  {
   "cell_type": "code",
   "execution_count": null,
   "metadata": {},
   "outputs": [],
   "source": [
    "train['WorkLifeBalance'].value_counts()"
   ]
  },
  {
   "cell_type": "code",
   "execution_count": null,
   "metadata": {},
   "outputs": [],
   "source": [
    "col = pd.DataFrame(train['WorkLifeBalance'])"
   ]
  },
  {
   "cell_type": "code",
   "execution_count": null,
   "metadata": {},
   "outputs": [],
   "source": [
    "col.value_counts()"
   ]
  },
  {
   "cell_type": "code",
   "execution_count": null,
   "metadata": {},
   "outputs": [],
   "source": [
    "col.replace('great',np.nan,inplace=True)\n",
    "col.replace('Bad',np.nan,inplace=True)\n",
    "col.replace('Good',np.nan,inplace=True)"
   ]
  },
  {
   "cell_type": "code",
   "execution_count": null,
   "metadata": {},
   "outputs": [],
   "source": [
    "col.dropna(inplace=True)"
   ]
  },
  {
   "cell_type": "code",
   "execution_count": null,
   "metadata": {},
   "outputs": [],
   "source": [
    "col.WorkLifeBalance = col.WorkLifeBalance.astype('int')"
   ]
  },
  {
   "cell_type": "code",
   "execution_count": null,
   "metadata": {},
   "outputs": [],
   "source": [
    "max = col.max()"
   ]
  },
  {
   "cell_type": "code",
   "execution_count": null,
   "metadata": {},
   "outputs": [],
   "source": [
    "max[0]"
   ]
  },
  {
   "cell_type": "code",
   "execution_count": null,
   "metadata": {},
   "outputs": [],
   "source": [
    "train[\"WorkLifeBalance\"].replace('great',str(max[0]),inplace=True)\n"
   ]
  },
  {
   "cell_type": "code",
   "execution_count": null,
   "metadata": {},
   "outputs": [],
   "source": [
    "train[\"WorkLifeBalance\"].replace('Bad',str(col.min()[0]),inplace=True)"
   ]
  },
  {
   "cell_type": "code",
   "execution_count": null,
   "metadata": {},
   "outputs": [],
   "source": [
    "col.mean()[0]"
   ]
  },
  {
   "cell_type": "code",
   "execution_count": null,
   "metadata": {},
   "outputs": [],
   "source": [
    "train[\"WorkLifeBalance\"].replace('Good',str(int(col.mean()[0])),inplace=True)"
   ]
  },
  {
   "cell_type": "code",
   "execution_count": null,
   "metadata": {},
   "outputs": [],
   "source": [
    "train[\"WorkLifeBalance\"].value_counts()"
   ]
  },
  {
   "cell_type": "code",
   "execution_count": null,
   "metadata": {},
   "outputs": [],
   "source": [
    "col = pd.DataFrame(train['JobInvolvement'])"
   ]
  },
  {
   "cell_type": "code",
   "execution_count": null,
   "metadata": {},
   "outputs": [],
   "source": [
    "col.value_counts()"
   ]
  },
  {
   "cell_type": "code",
   "execution_count": null,
   "metadata": {},
   "outputs": [],
   "source": [
    "col.replace('VeryHigh',np.nan,inplace=True)\n",
    "col.replace('High',np.nan,inplace=True)\n",
    "col.replace('Medium',np.nan,inplace=True)\n",
    "col.replace('Low',np.nan,inplace=True)"
   ]
  },
  {
   "cell_type": "code",
   "execution_count": null,
   "metadata": {},
   "outputs": [],
   "source": [
    "col.dropna(inplace=True)"
   ]
  },
  {
   "cell_type": "code",
   "execution_count": null,
   "metadata": {},
   "outputs": [],
   "source": [
    "col.JobInvolvement = col.JobInvolvement.astype('int')"
   ]
  },
  {
   "cell_type": "code",
   "execution_count": null,
   "metadata": {},
   "outputs": [],
   "source": [
    "train[\"JobInvolvement\"].replace('VeryHigh',str(col.max()[0]),inplace=True)\n",
    "train[\"JobInvolvement\"].replace('Low',str(col.min()[0]),inplace=True)\n",
    "train[\"JobInvolvement\"].replace('Medium',str(int(col.mean()[0])),inplace=True)\n",
    "train[\"JobInvolvement\"].replace('High',str((int(col.mean()[0]) + col.max()[0])//2),inplace=True)\n",
    "\n"
   ]
  },
  {
   "cell_type": "code",
   "execution_count": null,
   "metadata": {},
   "outputs": [],
   "source": [
    "train[\"WorkLifeBalance\"].value_counts()"
   ]
  },
  {
   "cell_type": "code",
   "execution_count": null,
   "metadata": {},
   "outputs": [],
   "source": []
  }
 ],
 "metadata": {
  "kernelspec": {
   "display_name": "Python 3",
   "language": "python",
   "name": "python3"
  },
  "language_info": {
   "codemirror_mode": {
    "name": "ipython",
    "version": 3
   },
   "file_extension": ".py",
   "mimetype": "text/x-python",
   "name": "python",
   "nbconvert_exporter": "python",
   "pygments_lexer": "ipython3",
   "version": "3.8.8"
  },
  "vscode": {
   "interpreter": {
    "hash": "9169f1d4e16acc976bbb73e323b0dbdf23f1c55e833fb2befffc4fb50ac2de2f"
   }
  }
 },
 "nbformat": 4,
 "nbformat_minor": 2
}
