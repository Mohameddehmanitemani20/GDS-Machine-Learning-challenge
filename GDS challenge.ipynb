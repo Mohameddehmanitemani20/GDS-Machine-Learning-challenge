{
 "cells": [
  {
   "cell_type": "code",
   "execution_count": 1,
   "id": "e98ab13e",
   "metadata": {},
   "outputs": [],
   "source": [
    "import requests , os\n",
    "import requests, zipfile\n",
    "import pandas as pd\n",
    "import numpy as np\n",
    "\n",
    "from sklearn.preprocessing import LabelEncoder\n",
    "from sklearn.model_selection import train_test_split,StratifiedKFold\n",
    "import  sklearn.metrics as skmetr\n",
    "import gc, requests\n",
    "from tqdm import tqdm\n",
    "from sklearn.metrics import hamming_loss\n",
    "from sklearn.naive_bayes import GaussianNB\n",
    "from sklearn.neighbors import KNeighborsClassifier\n",
    "from sklearn.ensemble import RandomForestClassifier, AdaBoostClassifier\n",
    "import matplotlib.pyplot as plt\n",
    "import xgboost as xgb\n",
    "\n",
    "import warnings\n",
    "warnings.filterwarnings('ignore')"
   ]
  },
  {
   "cell_type": "code",
   "execution_count": 2,
   "id": "aca644b4",
   "metadata": {},
   "outputs": [
    {
     "data": {
      "text/html": [
       "<div>\n",
       "<style scoped>\n",
       "    .dataframe tbody tr th:only-of-type {\n",
       "        vertical-align: middle;\n",
       "    }\n",
       "\n",
       "    .dataframe tbody tr th {\n",
       "        vertical-align: top;\n",
       "    }\n",
       "\n",
       "    .dataframe thead th {\n",
       "        text-align: right;\n",
       "    }\n",
       "</style>\n",
       "<table border=\"1\" class=\"dataframe\">\n",
       "  <thead>\n",
       "    <tr style=\"text-align: right;\">\n",
       "      <th></th>\n",
       "      <th>Identifier</th>\n",
       "      <th>Age</th>\n",
       "      <th>Height</th>\n",
       "      <th>Level of studies</th>\n",
       "      <th>Voice type</th>\n",
       "      <th>accent</th>\n",
       "      <th>Hair color</th>\n",
       "      <th>glasses</th>\n",
       "      <th>Body type</th>\n",
       "      <th>Tattoos</th>\n",
       "      <th>Gender</th>\n",
       "      <th>PK</th>\n",
       "      <th>food</th>\n",
       "      <th>JobInvolvement</th>\n",
       "      <th>WorkLifeBalance</th>\n",
       "      <th>jailexp</th>\n",
       "    </tr>\n",
       "  </thead>\n",
       "  <tbody>\n",
       "    <tr>\n",
       "      <th>0</th>\n",
       "      <td>0</td>\n",
       "      <td>21</td>\n",
       "      <td>191.41</td>\n",
       "      <td>1</td>\n",
       "      <td>mid range</td>\n",
       "      <td>East Coast City Dialects</td>\n",
       "      <td>Missing</td>\n",
       "      <td>No</td>\n",
       "      <td>mesomorph</td>\n",
       "      <td>No</td>\n",
       "      <td>M</td>\n",
       "      <td>No</td>\n",
       "      <td>Pizza</td>\n",
       "      <td>8711</td>\n",
       "      <td>8711</td>\n",
       "      <td>1089</td>\n",
       "    </tr>\n",
       "    <tr>\n",
       "      <th>1</th>\n",
       "      <td>1</td>\n",
       "      <td>**??</td>\n",
       "      <td>194.91</td>\n",
       "      <td>-------&gt;?</td>\n",
       "      <td>deep</td>\n",
       "      <td>Southern American</td>\n",
       "      <td>white/gray</td>\n",
       "      <td>No</td>\n",
       "      <td>mesomorph</td>\n",
       "      <td>?</td>\n",
       "      <td>NB</td>\n",
       "      <td>No</td>\n",
       "      <td>Pizza</td>\n",
       "      <td>VeryHigh</td>\n",
       "      <td>4734</td>\n",
       "      <td>?</td>\n",
       "    </tr>\n",
       "    <tr>\n",
       "      <th>2</th>\n",
       "      <td>2</td>\n",
       "      <td>-------&gt;?</td>\n",
       "      <td>170.39</td>\n",
       "      <td>0</td>\n",
       "      <td>high pitched</td>\n",
       "      <td>Midwestern American</td>\n",
       "      <td>black</td>\n",
       "      <td>No</td>\n",
       "      <td>mesomorph</td>\n",
       "      <td>No</td>\n",
       "      <td>M</td>\n",
       "      <td>No</td>\n",
       "      <td>?</td>\n",
       "      <td>VeryHigh</td>\n",
       "      <td>7252</td>\n",
       "      <td>907</td>\n",
       "    </tr>\n",
       "    <tr>\n",
       "      <th>3</th>\n",
       "      <td>NaN</td>\n",
       "      <td>NaN</td>\n",
       "      <td>NaN</td>\n",
       "      <td>NaN</td>\n",
       "      <td>NaN</td>\n",
       "      <td>NaN</td>\n",
       "      <td>NaN</td>\n",
       "      <td>NaN</td>\n",
       "      <td>NaN</td>\n",
       "      <td>NaN</td>\n",
       "      <td>NaN</td>\n",
       "      <td>NaN</td>\n",
       "      <td>NaN</td>\n",
       "      <td>NaN</td>\n",
       "      <td>NaN</td>\n",
       "      <td>NaN</td>\n",
       "    </tr>\n",
       "    <tr>\n",
       "      <th>4</th>\n",
       "      <td>4</td>\n",
       "      <td>19</td>\n",
       "      <td>187.54</td>\n",
       "      <td>3</td>\n",
       "      <td>deep</td>\n",
       "      <td>East Coast City Dialects</td>\n",
       "      <td>white/gray</td>\n",
       "      <td>No</td>\n",
       "      <td>ectomorph</td>\n",
       "      <td>Yes</td>\n",
       "      <td>M</td>\n",
       "      <td>No</td>\n",
       "      <td>Pizaa</td>\n",
       "      <td>VeryHigh</td>\n",
       "      <td>5080</td>\n",
       "      <td>635</td>\n",
       "    </tr>\n",
       "    <tr>\n",
       "      <th>...</th>\n",
       "      <td>...</td>\n",
       "      <td>...</td>\n",
       "      <td>...</td>\n",
       "      <td>...</td>\n",
       "      <td>...</td>\n",
       "      <td>...</td>\n",
       "      <td>...</td>\n",
       "      <td>...</td>\n",
       "      <td>...</td>\n",
       "      <td>...</td>\n",
       "      <td>...</td>\n",
       "      <td>...</td>\n",
       "      <td>...</td>\n",
       "      <td>...</td>\n",
       "      <td>...</td>\n",
       "      <td>...</td>\n",
       "    </tr>\n",
       "    <tr>\n",
       "      <th>1495</th>\n",
       "      <td>**??</td>\n",
       "      <td>Missing</td>\n",
       "      <td>1792.256</td>\n",
       "      <td>2</td>\n",
       "      <td>high pitched</td>\n",
       "      <td>?</td>\n",
       "      <td>black</td>\n",
       "      <td>**??</td>\n",
       "      <td>mesomorph</td>\n",
       "      <td>Yes</td>\n",
       "      <td>NB</td>\n",
       "      <td>No</td>\n",
       "      <td>Burger</td>\n",
       "      <td>High</td>\n",
       "      <td>great</td>\n",
       "      <td>?</td>\n",
       "    </tr>\n",
       "    <tr>\n",
       "      <th>1496</th>\n",
       "      <td>1496</td>\n",
       "      <td>24</td>\n",
       "      <td>189.42</td>\n",
       "      <td>2</td>\n",
       "      <td>mid range</td>\n",
       "      <td>Southern American</td>\n",
       "      <td>brown</td>\n",
       "      <td>No</td>\n",
       "      <td>endomorph</td>\n",
       "      <td>No</td>\n",
       "      <td>M</td>\n",
       "      <td>No</td>\n",
       "      <td>Burger</td>\n",
       "      <td>7895</td>\n",
       "      <td>*Burger</td>\n",
       "      <td>517</td>\n",
       "    </tr>\n",
       "    <tr>\n",
       "      <th>1497</th>\n",
       "      <td>1497</td>\n",
       "      <td>47</td>\n",
       "      <td>154.84</td>\n",
       "      <td>7</td>\n",
       "      <td>deep</td>\n",
       "      <td>East Coast City Dialects</td>\n",
       "      <td>white/gray</td>\n",
       "      <td>Yes</td>\n",
       "      <td>ectomorph</td>\n",
       "      <td>No</td>\n",
       "      <td>NB</td>\n",
       "      <td>Yes</td>\n",
       "      <td>Burger</td>\n",
       "      <td>Medium</td>\n",
       "      <td>Good</td>\n",
       "      <td>641</td>\n",
       "    </tr>\n",
       "    <tr>\n",
       "      <th>1498</th>\n",
       "      <td>1498</td>\n",
       "      <td>23</td>\n",
       "      <td>170.89</td>\n",
       "      <td>3</td>\n",
       "      <td>high pitched</td>\n",
       "      <td>Boston</td>\n",
       "      <td>blond</td>\n",
       "      <td>No</td>\n",
       "      <td>ectomorph</td>\n",
       "      <td>Yes</td>\n",
       "      <td>NB</td>\n",
       "      <td>No</td>\n",
       "      <td>Burger</td>\n",
       "      <td>VeryHigh</td>\n",
       "      <td>4252</td>\n",
       "      <td>21</td>\n",
       "    </tr>\n",
       "    <tr>\n",
       "      <th>1499</th>\n",
       "      <td>1499</td>\n",
       "      <td>?</td>\n",
       "      <td>160.76</td>\n",
       "      <td>8</td>\n",
       "      <td>deep</td>\n",
       "      <td>Midwestern American</td>\n",
       "      <td>blond</td>\n",
       "      <td>Yes</td>\n",
       "      <td>mesomorph</td>\n",
       "      <td>Yes</td>\n",
       "      <td>Missing</td>\n",
       "      <td>Yes</td>\n",
       "      <td>Burger</td>\n",
       "      <td>VeryHigh</td>\n",
       "      <td>3709</td>\n",
       "      <td>**??</td>\n",
       "    </tr>\n",
       "  </tbody>\n",
       "</table>\n",
       "<p>1500 rows × 16 columns</p>\n",
       "</div>"
      ],
      "text/plain": [
       "     Identifier        Age    Height Level of studies    Voice type  \\\n",
       "0             0         21    191.41                1     mid range   \n",
       "1             1       **??    194.91        ------->?          deep   \n",
       "2             2  ------->?    170.39                0  high pitched   \n",
       "3           NaN        NaN       NaN              NaN           NaN   \n",
       "4             4         19    187.54                3          deep   \n",
       "...         ...        ...       ...              ...           ...   \n",
       "1495       **??    Missing  1792.256                2  high pitched   \n",
       "1496       1496         24    189.42                2     mid range   \n",
       "1497       1497         47    154.84                7          deep   \n",
       "1498       1498         23    170.89                3  high pitched   \n",
       "1499       1499          ?    160.76                8          deep   \n",
       "\n",
       "                        accent  Hair color glasses  Body type Tattoos  \\\n",
       "0     East Coast City Dialects     Missing      No  mesomorph      No   \n",
       "1            Southern American  white/gray      No  mesomorph       ?   \n",
       "2          Midwestern American       black      No  mesomorph      No   \n",
       "3                          NaN         NaN     NaN        NaN     NaN   \n",
       "4     East Coast City Dialects  white/gray      No  ectomorph     Yes   \n",
       "...                        ...         ...     ...        ...     ...   \n",
       "1495                         ?       black    **??  mesomorph     Yes   \n",
       "1496         Southern American       brown      No  endomorph      No   \n",
       "1497  East Coast City Dialects  white/gray     Yes  ectomorph      No   \n",
       "1498                    Boston       blond      No  ectomorph     Yes   \n",
       "1499       Midwestern American       blond     Yes  mesomorph     Yes   \n",
       "\n",
       "       Gender   PK    food JobInvolvement WorkLifeBalance jailexp  \n",
       "0           M   No   Pizza           8711            8711    1089  \n",
       "1          NB   No   Pizza       VeryHigh            4734       ?  \n",
       "2           M   No       ?       VeryHigh            7252     907  \n",
       "3         NaN  NaN     NaN            NaN             NaN     NaN  \n",
       "4           M   No   Pizaa       VeryHigh            5080     635  \n",
       "...       ...  ...     ...            ...             ...     ...  \n",
       "1495       NB   No  Burger           High           great       ?  \n",
       "1496        M   No  Burger           7895         *Burger     517  \n",
       "1497       NB  Yes  Burger         Medium            Good     641  \n",
       "1498       NB   No  Burger       VeryHigh            4252      21  \n",
       "1499  Missing  Yes  Burger       VeryHigh            3709    **??  \n",
       "\n",
       "[1500 rows x 16 columns]"
      ]
     },
     "execution_count": 2,
     "metadata": {},
     "output_type": "execute_result"
    }
   ],
   "source": [
    "df=pd.read_csv(\"C:/Users/MSI/Desktop/IndabaX 2022/GDS challenge/Training-Dataset.csv\")\n",
    "df"
   ]
  },
  {
   "cell_type": "code",
   "execution_count": 3,
   "id": "34a0838c",
   "metadata": {},
   "outputs": [
    {
     "data": {
      "text/plain": [
       "(1500, 16)"
      ]
     },
     "execution_count": 3,
     "metadata": {},
     "output_type": "execute_result"
    }
   ],
   "source": [
    "df.shape"
   ]
  },
  {
   "cell_type": "code",
   "execution_count": 4,
   "id": "2ae8db02",
   "metadata": {},
   "outputs": [
    {
     "data": {
      "text/plain": [
       "array([[False, False, False, ..., False, False, False],\n",
       "       [False, False, False, ..., False, False, False],\n",
       "       [False, False, False, ..., False, False, False],\n",
       "       ...,\n",
       "       [False, False, False, ..., False, False, False],\n",
       "       [False, False, False, ..., False, False, False],\n",
       "       [False, False, False, ..., False, False, False]])"
      ]
     },
     "execution_count": 4,
     "metadata": {},
     "output_type": "execute_result"
    }
   ],
   "source": [
    "df.isna().values"
   ]
  },
  {
   "cell_type": "markdown",
   "id": "dd32e79f",
   "metadata": {},
   "source": [
    "### Categorical features "
   ]
  },
  {
   "cell_type": "code",
   "execution_count": 5,
   "id": "890786b8",
   "metadata": {},
   "outputs": [
    {
     "data": {
      "text/plain": [
       "['Identifier',\n",
       " 'Age',\n",
       " 'Height',\n",
       " 'Level of studies',\n",
       " 'Voice type',\n",
       " 'accent',\n",
       " 'Hair color',\n",
       " 'glasses',\n",
       " 'Body type',\n",
       " 'Tattoos',\n",
       " 'Gender',\n",
       " 'PK',\n",
       " 'food',\n",
       " 'JobInvolvement',\n",
       " 'WorkLifeBalance',\n",
       " 'jailexp']"
      ]
     },
     "execution_count": 5,
     "metadata": {},
     "output_type": "execute_result"
    }
   ],
   "source": [
    "cat_features = df.select_dtypes(include=['object','bool']).columns.tolist()\n",
    "cat_features"
   ]
  },
  {
   "cell_type": "code",
   "execution_count": 6,
   "id": "f21c2943",
   "metadata": {},
   "outputs": [
    {
     "data": {
      "text/plain": [
       "['Voice type',\n",
       " 'accent',\n",
       " 'Hair color',\n",
       " 'glasses',\n",
       " 'Body type',\n",
       " 'Tattoos',\n",
       " 'Gender',\n",
       " 'PK',\n",
       " 'food',\n",
       " 'JobInvolvement',\n",
       " 'WorkLifeBalance']"
      ]
     },
     "execution_count": 6,
     "metadata": {},
     "output_type": "execute_result"
    }
   ],
   "source": [
    "cat_features1=cat_features[4:-1]\n",
    "cat_features1"
   ]
  },
  {
   "cell_type": "markdown",
   "id": "b2810d51",
   "metadata": {},
   "source": [
    "### numerical features"
   ]
  },
  {
   "cell_type": "code",
   "execution_count": 7,
   "id": "077f2eb4",
   "metadata": {},
   "outputs": [
    {
     "data": {
      "text/plain": [
       "[]"
      ]
     },
     "execution_count": 7,
     "metadata": {},
     "output_type": "execute_result"
    }
   ],
   "source": [
    "num_features = df.select_dtypes(exclude=['object','bool']).columns.tolist()\n",
    "num_features"
   ]
  },
  {
   "cell_type": "code",
   "execution_count": 8,
   "id": "acedd911",
   "metadata": {},
   "outputs": [
    {
     "data": {
      "text/plain": [
       "416"
      ]
     },
     "execution_count": 8,
     "metadata": {},
     "output_type": "execute_result"
    }
   ],
   "source": [
    "df.isna().values.sum()"
   ]
  },
  {
   "cell_type": "code",
   "execution_count": 9,
   "id": "cd0519a3",
   "metadata": {},
   "outputs": [
    {
     "data": {
      "text/plain": [
       "Yes          802\n",
       "No           530\n",
       "**??          45\n",
       "?             40\n",
       "------->?     37\n",
       "Missing       20\n",
       "Name: PK, dtype: int64"
      ]
     },
     "execution_count": 9,
     "metadata": {},
     "output_type": "execute_result"
    }
   ],
   "source": [
    "df[\"PK\"].value_counts()"
   ]
  },
  {
   "cell_type": "code",
   "execution_count": 10,
   "id": "ac79910f",
   "metadata": {},
   "outputs": [
    {
     "data": {
      "text/plain": [
       "Index(['Identifier', 'Age', 'Height', 'Level of studies', 'Voice type',\n",
       "       'accent', 'Hair color', 'glasses', 'Body type', 'Tattoos', 'Gender',\n",
       "       'PK', 'food', 'JobInvolvement', 'WorkLifeBalance', 'jailexp'],\n",
       "      dtype='object')"
      ]
     },
     "execution_count": 10,
     "metadata": {},
     "output_type": "execute_result"
    }
   ],
   "source": [
    "df.columns"
   ]
  },
  {
   "cell_type": "code",
   "execution_count": 11,
   "id": "f5089f40",
   "metadata": {
    "scrolled": true
   },
   "outputs": [
    {
     "data": {
      "text/plain": [
       "great    205\n",
       "Bad      166\n",
       "Good     148\n",
       "3514       1\n",
       "9685       1\n",
       "        ... \n",
       "6366       1\n",
       "8139       1\n",
       "4706       1\n",
       "4370       1\n",
       "6630       1\n",
       "Name: WorkLifeBalance, Length: 958, dtype: int64"
      ]
     },
     "execution_count": 11,
     "metadata": {},
     "output_type": "execute_result"
    }
   ],
   "source": [
    "df[\"WorkLifeBalance\"].value_counts()"
   ]
  },
  {
   "cell_type": "code",
   "execution_count": null,
   "id": "9fdc8586",
   "metadata": {},
   "outputs": [],
   "source": [
    "df1=df[['Voice type',\n",
    "       'accent', 'Hair color', 'glasses', 'Body type', 'Tattoos', 'Gender',\n",
    "       'PK', 'food', 'JobInvolvement', 'WorkLifeBalance', 'jailexp']]"
   ]
  },
  {
   "cell_type": "code",
   "execution_count": null,
   "id": "394c622f",
   "metadata": {},
   "outputs": [],
   "source": [
    "from sklearn import preprocessing\n",
    "le = preprocessing.LabelEncoder()\n",
    "for i in cat_features1:\n",
    "      df1[i] = le.fit_transform(df1[i])"
   ]
  },
  {
   "cell_type": "code",
   "execution_count": null,
   "id": "a232db8b",
   "metadata": {},
   "outputs": [],
   "source": [
    "df1"
   ]
  },
  {
   "cell_type": "code",
   "execution_count": null,
   "id": "e398c7d2",
   "metadata": {},
   "outputs": [],
   "source": [
    "df1[\"PK\"]"
   ]
  },
  {
   "cell_type": "code",
   "execution_count": null,
   "id": "2448503f",
   "metadata": {},
   "outputs": [],
   "source": []
  },
  {
   "cell_type": "code",
   "execution_count": null,
   "id": "4466c032",
   "metadata": {},
   "outputs": [],
   "source": []
  },
  {
   "cell_type": "code",
   "execution_count": null,
   "id": "9a4497b7",
   "metadata": {},
   "outputs": [],
   "source": []
  },
  {
   "cell_type": "code",
   "execution_count": null,
   "id": "a4af9e25",
   "metadata": {},
   "outputs": [],
   "source": []
  },
  {
   "cell_type": "code",
   "execution_count": null,
   "id": "732a63a2",
   "metadata": {},
   "outputs": [],
   "source": []
  },
  {
   "cell_type": "code",
   "execution_count": null,
   "id": "88cfeb64",
   "metadata": {},
   "outputs": [],
   "source": []
  },
  {
   "cell_type": "code",
   "execution_count": null,
   "id": "fb769f5f",
   "metadata": {},
   "outputs": [],
   "source": []
  }
 ],
 "metadata": {
  "kernelspec": {
   "display_name": "Python 3",
   "language": "python",
   "name": "python3"
  },
  "language_info": {
   "codemirror_mode": {
    "name": "ipython",
    "version": 3
   },
   "file_extension": ".py",
   "mimetype": "text/x-python",
   "name": "python",
   "nbconvert_exporter": "python",
   "pygments_lexer": "ipython3",
   "version": "3.8.8"
  }
 },
 "nbformat": 4,
 "nbformat_minor": 5
}
